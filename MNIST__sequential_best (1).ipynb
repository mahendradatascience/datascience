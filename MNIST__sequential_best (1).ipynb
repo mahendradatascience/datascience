{
  "nbformat": 4,
  "nbformat_minor": 0,
  "metadata": {
    "colab": {
      "name": "MNIST _sequential_best.ipynb",
      "provenance": []
    },
    "kernelspec": {
      "name": "python3",
      "display_name": "Python 3"
    }
  },
  "cells": [
    {
      "cell_type": "code",
      "metadata": {
        "id": "UC0k4982Tq-U",
        "colab_type": "code",
        "colab": {}
      },
      "source": [
        "import tensorflow as tf            # deep learning library. Tensors are just multi-dimensional arrays\n",
        "import tensorflow.keras as keras"
      ],
      "execution_count": 1,
      "outputs": []
    },
    {
      "cell_type": "code",
      "metadata": {
        "id": "O3-ceRmNVMhP",
        "colab_type": "code",
        "colab": {
          "base_uri": "https://localhost:8080/",
          "height": 51
        },
        "outputId": "84bcc6c8-ac54-4431-f53c-6521b4046186"
      },
      "source": [
        "mnist = tf.keras.datasets.mnist   # mnist is a dataset of 28x28 images of handwritten digits and their labels 0-9\n",
        "(X_train , y_train) ,( X_test, y_test) = mnist.load_data()  # unpacks images to X_train_full/X_test and labels to y_train_full/y_test"
      ],
      "execution_count": 2,
      "outputs": [
        {
          "output_type": "stream",
          "text": [
            "Downloading data from https://storage.googleapis.com/tensorflow/tf-keras-datasets/mnist.npz\n",
            "11493376/11490434 [==============================] - 0s 0us/step\n"
          ],
          "name": "stdout"
        }
      ]
    },
    {
      "cell_type": "code",
      "metadata": {
        "id": "f6XwHPnrV6Vz",
        "colab_type": "code",
        "colab": {
          "base_uri": "https://localhost:8080/",
          "height": 265
        },
        "outputId": "151e7f59-6384-4709-ad95-38ce496233b6"
      },
      "source": [
        "import matplotlib.pyplot as plt\n",
        "plt.imshow(X_train[0])   # index 0th digit of  X_train_full data set in image form\n",
        "plt.show()"
      ],
      "execution_count": 3,
      "outputs": [
        {
          "output_type": "display_data",
          "data": {
            "image/png": "[encoded data removed]",
            "text/plain": [
              "<Figure size 432x288 with 1 Axes>"
            ]
          },
          "metadata": {
            "tags": [],
            "needs_background": "light"
          }
        }
      ]
    },
    {
      "cell_type": "code",
      "metadata": {
        "id": "iOKU9rCRW-vE",
        "colab_type": "code",
        "colab": {
          "base_uri": "https://localhost:8080/",
          "height": 969
        },
        "outputId": "b9a8b69b-a7f3-4ada-b23a-56de7c0cd24a"
      },
      "source": [
        "print(X_train[0])  # index 0th digit of  X_train_full data set in binary form"
      ],
      "execution_count": 4,
      "outputs": [
        {
          "output_type": "stream",
          "text": [
            "[[  0   0   0   0   0   0   0   0   0   0   0   0   0   0   0   0   0   0\n",
            "    0   0   0   0   0   0   0   0   0   0]\n",
            " [  0   0   0   0   0   0   0   0   0   0   0   0   0   0   0   0   0   0\n",
            "    0   0   0   0   0   0   0   0   0   0]\n",
            " [  0   0   0   0   0   0   0   0   0   0   0   0   0   0   0   0   0   0\n",
            "    0   0   0   0   0   0   0   0   0   0]\n",
            " [  0   0   0   0   0   0   0   0   0   0   0   0   0   0   0   0   0   0\n",
            "    0   0   0   0   0   0   0   0   0   0]\n",
            " [  0   0   0   0   0   0   0   0   0   0   0   0   0   0   0   0   0   0\n",
            "    0   0   0   0   0   0   0   0   0   0]\n",
            " [  0   0   0   0   0   0   0   0   0   0   0   0   3  18  18  18 126 136\n",
            "  175  26 166 255 247 127   0   0   0   0]\n",
            " [  0   0   0   0   0   0   0   0  30  36  94 154 170 253 253 253 253 253\n",
            "  225 172 253 242 195  64   0   0   0   0]\n",
            " [  0   0   0   0   0   0   0  49 238 253 253 253 253 253 253 253 253 251\n",
            "   93  82  82  56  39   0   0   0   0   0]\n",
            " [  0   0   0   0   0   0   0  18 219 253 253 253 253 253 198 182 247 241\n",
            "    0   0   0   0   0   0   0   0   0   0]\n",
            " [  0   0   0   0   0   0   0   0  80 156 107 253 253 205  11   0  43 154\n",
            "    0   0   0   0   0   0   0   0   0   0]\n",
            " [  0   0   0   0   0   0   0   0   0  14   1 154 253  90   0   0   0   0\n",
            "    0   0   0   0   0   0   0   0   0   0]\n",
            " [  0   0   0   0   0   0   0   0   0   0   0 139 253 190   2   0   0   0\n",
            "    0   0   0   0   0   0   0   0   0   0]\n",
            " [  0   0   0   0   0   0   0   0   0   0   0  11 190 253  70   0   0   0\n",
            "    0   0   0   0   0   0   0   0   0   0]\n",
            " [  0   0   0   0   0   0   0   0   0   0   0   0  35 241 225 160 108   1\n",
            "    0   0   0   0   0   0   0   0   0   0]\n",
            " [  0   0   0   0   0   0   0   0   0   0   0   0   0  81 240 253 253 119\n",
            "   25   0   0   0   0   0   0   0   0   0]\n",
            " [  0   0   0   0   0   0   0   0   0   0   0   0   0   0  45 186 253 253\n",
            "  150  27   0   0   0   0   0   0   0   0]\n",
            " [  0   0   0   0   0   0   0   0   0   0   0   0   0   0   0  16  93 252\n",
            "  253 187   0   0   0   0   0   0   0   0]\n",
            " [  0   0   0   0   0   0   0   0   0   0   0   0   0   0   0   0   0 249\n",
            "  253 249  64   0   0   0   0   0   0   0]\n",
            " [  0   0   0   0   0   0   0   0   0   0   0   0   0   0  46 130 183 253\n",
            "  253 207   2   0   0   0   0   0   0   0]\n",
            " [  0   0   0   0   0   0   0   0   0   0   0   0  39 148 229 253 253 253\n",
            "  250 182   0   0   0   0   0   0   0   0]\n",
            " [  0   0   0   0   0   0   0   0   0   0  24 114 221 253 253 253 253 201\n",
            "   78   0   0   0   0   0   0   0   0   0]\n",
            " [  0   0   0   0   0   0   0   0  23  66 213 253 253 253 253 198  81   2\n",
            "    0   0   0   0   0   0   0   0   0   0]\n",
            " [  0   0   0   0   0   0  18 171 219 253 253 253 253 195  80   9   0   0\n",
            "    0   0   0   0   0   0   0   0   0   0]\n",
            " [  0   0   0   0  55 172 226 253 253 253 253 244 133  11   0   0   0   0\n",
            "    0   0   0   0   0   0   0   0   0   0]\n",
            " [  0   0   0   0 136 253 253 253 212 135 132  16   0   0   0   0   0   0\n",
            "    0   0   0   0   0   0   0   0   0   0]\n",
            " [  0   0   0   0   0   0   0   0   0   0   0   0   0   0   0   0   0   0\n",
            "    0   0   0   0   0   0   0   0   0   0]\n",
            " [  0   0   0   0   0   0   0   0   0   0   0   0   0   0   0   0   0   0\n",
            "    0   0   0   0   0   0   0   0   0   0]\n",
            " [  0   0   0   0   0   0   0   0   0   0   0   0   0   0   0   0   0   0\n",
            "    0   0   0   0   0   0   0   0   0   0]]\n"
          ],
          "name": "stdout"
        }
      ]
    },
    {
      "cell_type": "code",
      "metadata": {
        "id": "O1gZK5OFZN3v",
        "colab_type": "code",
        "colab": {
          "base_uri": "https://localhost:8080/",
          "height": 34
        },
        "outputId": "ccd4b006-45eb-4d6f-d920-c85131125366"
      },
      "source": [
        "y_train[0]   #  How about the value for y_train with the same index?"
      ],
      "execution_count": 5,
      "outputs": [
        {
          "output_type": "execute_result",
          "data": {
            "text/plain": [
              "5"
            ]
          },
          "metadata": {
            "tags": []
          },
          "execution_count": 5
        }
      ]
    },
    {
      "cell_type": "code",
      "metadata": {
        "id": "vtHqRo13XqBh",
        "colab_type": "code",
        "colab": {
          "base_uri": "https://localhost:8080/",
          "height": 282
        },
        "outputId": "eaae747f-fb0c-48c4-e835-7839a1ace340"
      },
      "source": [
        "plt.imshow(X_train[59999]) # list of digit is from 0 to 59999"
      ],
      "execution_count": 6,
      "outputs": [
        {
          "output_type": "execute_result",
          "data": {
            "text/plain": [
              "<matplotlib.image.AxesImage at 0x7f4abf140550>"
            ]
          },
          "metadata": {
            "tags": []
          },
          "execution_count": 6
        },
        {
          "output_type": "display_data",
          "data": {
            "image/png": "[encoded data removed]",
            "text/plain": [
              "<Figure size 432x288 with 1 Axes>"
            ]
          },
          "metadata": {
            "tags": [],
            "needs_background": "light"
          }
        }
      ]
    },
    {
      "cell_type": "code",
      "metadata": {
        "id": "ryXHpG1aXw0A",
        "colab_type": "code",
        "colab": {
          "base_uri": "https://localhost:8080/",
          "height": 282
        },
        "outputId": "a935a397-c973-4676-d5e7-9e369b7cfb8a"
      },
      "source": [
        "plt.imshow(X_train[0], cmap=plt.cm.binary) #  in black & white  no colour "
      ],
      "execution_count": 7,
      "outputs": [
        {
          "output_type": "execute_result",
          "data": {
            "text/plain": [
              "<matplotlib.image.AxesImage at 0x7f4abf122748>"
            ]
          },
          "metadata": {
            "tags": []
          },
          "execution_count": 7
        },
        {
          "output_type": "display_data",
          "data": {
            "image/png": "[encoded data removed]",
            "text/plain": [
              "<Figure size 432x288 with 1 Axes>"
            ]
          },
          "metadata": {
            "tags": [],
            "needs_background": "light"
          }
        }
      ]
    },
    {
      "cell_type": "code",
      "metadata": {
        "id": "h84ajfRpZFff",
        "colab_type": "code",
        "colab": {}
      },
      "source": [
        "X_train = tf.keras.utils.normalize(X_train, axis=1)  # scales data between 0 and 1\n",
        "X_test = tf.keras.utils.normalize(X_test, axis=1)  # scales data between 0 and 1"
      ],
      "execution_count": 9,
      "outputs": []
    },
    {
      "cell_type": "code",
      "metadata": {
        "id": "QO-BBQOTcx0h",
        "colab_type": "code",
        "colab": {
          "base_uri": "https://localhost:8080/",
          "height": 282
        },
        "outputId": "4de3bed8-ec22-4eac-a3a8-0c139e50bd34"
      },
      "source": [
        "plt.imshow(X_train[0], cmap=plt.cm.binary) # Image looks lighter after scalling"
      ],
      "execution_count": 10,
      "outputs": [
        {
          "output_type": "execute_result",
          "data": {
            "text/plain": [
              "<matplotlib.image.AxesImage at 0x7f4abefe42b0>"
            ]
          },
          "metadata": {
            "tags": []
          },
          "execution_count": 10
        },
        {
          "output_type": "display_data",
          "data": {
            "image/png": "[encoded data removed]",
            "text/plain": [
              "<Figure size 432x288 with 1 Axes>"
            ]
          },
          "metadata": {
            "tags": [],
            "needs_background": "light"
          }
        }
      ]
    },
    {
      "cell_type": "code",
      "metadata": {
        "id": "EoKkUnTEeYiS",
        "colab_type": "code",
        "colab": {
          "base_uri": "https://localhost:8080/",
          "height": 34
        },
        "outputId": "82439709-8376-4391-91a8-6befc8d7e914"
      },
      "source": [
        "X_train.shape"
      ],
      "execution_count": 11,
      "outputs": [
        {
          "output_type": "execute_result",
          "data": {
            "text/plain": [
              "(60000, 28, 28)"
            ]
          },
          "metadata": {
            "tags": []
          },
          "execution_count": 11
        }
      ]
    },
    {
      "cell_type": "code",
      "metadata": {
        "id": "0rPfvtVMeosy",
        "colab_type": "code",
        "colab": {}
      },
      "source": [
        "model = keras.models.Sequential()\n",
        "model.add(keras.layers.Flatten(input_shape=[28, 28]))\n",
        "model.add(keras.layers.Dense(300, activation=\"relu\"))\n",
        "model.add(keras.layers.Dense(100, activation=\"relu\"))\n",
        "model.add(keras.layers.Dense(10, activation=\"softmax\"))"
      ],
      "execution_count": 12,
      "outputs": []
    },
    {
      "cell_type": "code",
      "metadata": {
        "id": "571TODuifED4",
        "colab_type": "code",
        "colab": {
          "base_uri": "https://localhost:8080/",
          "height": 289
        },
        "outputId": "c1fd28b7-938c-418d-fac3-937adbc64d30"
      },
      "source": [
        "model.summary()"
      ],
      "execution_count": 13,
      "outputs": [
        {
          "output_type": "stream",
          "text": [
            "Model: \"sequential\"\n",
            "_________________________________________________________________\n",
            "Layer (type)                 Output Shape              Param #   \n",
            "=================================================================\n",
            "flatten (Flatten)            (None, 784)               0         \n",
            "_________________________________________________________________\n",
            "dense (Dense)                (None, 300)               235500    \n",
            "_________________________________________________________________\n",
            "dense_1 (Dense)              (None, 100)               30100     \n",
            "_________________________________________________________________\n",
            "dense_2 (Dense)              (None, 10)                1010      \n",
            "=================================================================\n",
            "Total params: 266,610\n",
            "Trainable params: 266,610\n",
            "Non-trainable params: 0\n",
            "_________________________________________________________________\n"
          ],
          "name": "stdout"
        }
      ]
    },
    {
      "cell_type": "code",
      "metadata": {
        "id": "1ifdyErefK8k",
        "colab_type": "code",
        "colab": {
          "base_uri": "https://localhost:8080/",
          "height": 85
        },
        "outputId": "cabbdd60-5fc0-4c1a-abfe-c80decc43133"
      },
      "source": [
        "model.layers"
      ],
      "execution_count": 14,
      "outputs": [
        {
          "output_type": "execute_result",
          "data": {
            "text/plain": [
              "[<tensorflow.python.keras.layers.core.Flatten at 0x7f4abef8b630>,\n",
              " <tensorflow.python.keras.layers.core.Dense at 0x7f4abeff5eb8>,\n",
              " <tensorflow.python.keras.layers.core.Dense at 0x7f4abef9e3c8>,\n",
              " <tensorflow.python.keras.layers.core.Dense at 0x7f4abef9e240>]"
            ]
          },
          "metadata": {
            "tags": []
          },
          "execution_count": 14
        }
      ]
    },
    {
      "cell_type": "code",
      "metadata": {
        "id": "PBKowYJ9fQAQ",
        "colab_type": "code",
        "colab": {
          "base_uri": "https://localhost:8080/",
          "height": 35
        },
        "outputId": "7a69d131-1ae8-402b-946a-7f00296253b6"
      },
      "source": [
        "model.layers[0].name"
      ],
      "execution_count": 15,
      "outputs": [
        {
          "output_type": "execute_result",
          "data": {
            "application/vnd.google.colaboratory.intrinsic+json": {
              "type": "string"
            },
            "text/plain": [
              "'flatten'"
            ]
          },
          "metadata": {
            "tags": []
          },
          "execution_count": 15
        }
      ]
    },
    {
      "cell_type": "code",
      "metadata": {
        "id": "9Fo-vb-wfX-3",
        "colab_type": "code",
        "colab": {}
      },
      "source": [
        "model.compile(loss=\"sparse_categorical_crossentropy\", # how will we calculate our \"error.\" Neural network aims to minimize loss.\n",
        "optimizer=\"sgd\",\n",
        "metrics=[\"accuracy\"]) # what to track"
      ],
      "execution_count": 16,
      "outputs": []
    },
    {
      "cell_type": "code",
      "metadata": {
        "id": "67ZEWiVEg3ya",
        "colab_type": "code",
        "colab": {
          "base_uri": "https://localhost:8080/",
          "height": 1000
        },
        "outputId": "38f3d12c-c557-4076-ccea-05f05cb614d9"
      },
      "source": [
        "history = model.fit(X_train, y_train, epochs=30 )"
      ],
      "execution_count": 17,
      "outputs": [
        {
          "output_type": "stream",
          "text": [
            "Epoch 1/30\n",
            "1875/1875 [==============================] - 5s 2ms/step - loss: 0.9919 - accuracy: 0.7628\n",
            "Epoch 2/30\n",
            "1875/1875 [==============================] - 5s 2ms/step - loss: 0.3757 - accuracy: 0.8948\n",
            "Epoch 3/30\n",
            "1875/1875 [==============================] - 5s 2ms/step - loss: 0.3072 - accuracy: 0.9126\n",
            "Epoch 4/30\n",
            "1875/1875 [==============================] - 4s 2ms/step - loss: 0.2700 - accuracy: 0.9224\n",
            "Epoch 5/30\n",
            "1875/1875 [==============================] - 5s 2ms/step - loss: 0.2437 - accuracy: 0.9295\n",
            "Epoch 6/30\n",
            "1875/1875 [==============================] - 5s 2ms/step - loss: 0.2234 - accuracy: 0.9361\n",
            "Epoch 7/30\n",
            "1875/1875 [==============================] - 5s 2ms/step - loss: 0.2064 - accuracy: 0.9408\n",
            "Epoch 8/30\n",
            "1875/1875 [==============================] - 5s 2ms/step - loss: 0.1916 - accuracy: 0.9447\n",
            "Epoch 9/30\n",
            "1875/1875 [==============================] - 5s 2ms/step - loss: 0.1784 - accuracy: 0.9492\n",
            "Epoch 10/30\n",
            "1875/1875 [==============================] - 5s 2ms/step - loss: 0.1667 - accuracy: 0.9518\n",
            "Epoch 11/30\n",
            "1875/1875 [==============================] - 5s 2ms/step - loss: 0.1560 - accuracy: 0.9560\n",
            "Epoch 12/30\n",
            "1875/1875 [==============================] - 5s 2ms/step - loss: 0.1464 - accuracy: 0.9584\n",
            "Epoch 13/30\n",
            "1875/1875 [==============================] - 4s 2ms/step - loss: 0.1377 - accuracy: 0.9604\n",
            "Epoch 14/30\n",
            "1875/1875 [==============================] - 5s 2ms/step - loss: 0.1300 - accuracy: 0.9629\n",
            "Epoch 15/30\n",
            "1875/1875 [==============================] - 5s 2ms/step - loss: 0.1228 - accuracy: 0.9648\n",
            "Epoch 16/30\n",
            "1875/1875 [==============================] - 5s 2ms/step - loss: 0.1163 - accuracy: 0.9667\n",
            "Epoch 17/30\n",
            "1875/1875 [==============================] - 5s 2ms/step - loss: 0.1102 - accuracy: 0.9686\n",
            "Epoch 18/30\n",
            "1875/1875 [==============================] - 5s 3ms/step - loss: 0.1048 - accuracy: 0.9698\n",
            "Epoch 19/30\n",
            "1875/1875 [==============================] - 5s 3ms/step - loss: 0.0997 - accuracy: 0.9711\n",
            "Epoch 20/30\n",
            "1875/1875 [==============================] - 5s 2ms/step - loss: 0.0948 - accuracy: 0.9730\n",
            "Epoch 21/30\n",
            "1875/1875 [==============================] - 5s 2ms/step - loss: 0.0906 - accuracy: 0.9744\n",
            "Epoch 22/30\n",
            "1875/1875 [==============================] - 5s 2ms/step - loss: 0.0864 - accuracy: 0.9754\n",
            "Epoch 23/30\n",
            "1875/1875 [==============================] - 5s 2ms/step - loss: 0.0828 - accuracy: 0.9764\n",
            "Epoch 24/30\n",
            "1875/1875 [==============================] - 5s 2ms/step - loss: 0.0791 - accuracy: 0.9777\n",
            "Epoch 25/30\n",
            "1875/1875 [==============================] - 5s 2ms/step - loss: 0.0758 - accuracy: 0.9785\n",
            "Epoch 26/30\n",
            "1875/1875 [==============================] - 5s 2ms/step - loss: 0.0725 - accuracy: 0.9796\n",
            "Epoch 27/30\n",
            "1875/1875 [==============================] - 4s 2ms/step - loss: 0.0695 - accuracy: 0.9806\n",
            "Epoch 28/30\n",
            "1875/1875 [==============================] - 5s 2ms/step - loss: 0.0667 - accuracy: 0.9816\n",
            "Epoch 29/30\n",
            "1875/1875 [==============================] - 5s 2ms/step - loss: 0.0640 - accuracy: 0.9824\n",
            "Epoch 30/30\n",
            "1875/1875 [==============================] - 5s 2ms/step - loss: 0.0616 - accuracy: 0.9832\n"
          ],
          "name": "stdout"
        }
      ]
    },
    {
      "cell_type": "code",
      "metadata": {
        "id": "z2wtKGzAieN-",
        "colab_type": "code",
        "colab": {
          "base_uri": "https://localhost:8080/",
          "height": 34
        },
        "outputId": "26a98791-9637-477d-d64a-f115e15981a6"
      },
      "source": [
        "val_loss, val_acc = model.evaluate(X_test, y_test) # evaluate the out of sample data with model"
      ],
      "execution_count": 18,
      "outputs": [
        {
          "output_type": "stream",
          "text": [
            "313/313 [==============================] - 0s 1ms/step - loss: 0.0953 - accuracy: 0.9710\n"
          ],
          "name": "stdout"
        }
      ]
    },
    {
      "cell_type": "code",
      "metadata": {
        "id": "ytkcqbCulV-u",
        "colab_type": "code",
        "colab": {}
      },
      "source": [
        "#It's going to be very likely your accuracy out of sample is a bit worse, same with loss. \n",
        "#In fact, it should be a red flag if it's identical, or better."
      ],
      "execution_count": 19,
      "outputs": []
    },
    {
      "cell_type": "code",
      "metadata": {
        "id": "g3XS7MNPjRlJ",
        "colab_type": "code",
        "colab": {
          "base_uri": "https://localhost:8080/",
          "height": 1000
        },
        "outputId": "66cac047-5e91-42b0-92a6-02830ac7fe74"
      },
      "source": [
        "history.history"
      ],
      "execution_count": 20,
      "outputs": [
        {
          "output_type": "execute_result",
          "data": {
            "text/plain": [
              "{'accuracy': [0.7627666592597961,\n",
              "  0.8947666883468628,\n",
              "  0.9125666618347168,\n",
              "  0.9223999977111816,\n",
              "  0.9294666647911072,\n",
              "  0.9361000061035156,\n",
              "  0.940833330154419,\n",
              "  0.944683313369751,\n",
              "  0.949150025844574,\n",
              "  0.9517999887466431,\n",
              "  0.9560333490371704,\n",
              "  0.958383321762085,\n",
              "  0.9603666663169861,\n",
              "  0.9629166722297668,\n",
              "  0.9647666811943054,\n",
              "  0.9666666388511658,\n",
              "  0.9685999751091003,\n",
              "  0.9698166847229004,\n",
              "  0.9710666537284851,\n",
              "  0.9730333089828491,\n",
              "  0.9744333624839783,\n",
              "  0.9753666520118713,\n",
              "  0.9764000177383423,\n",
              "  0.977733314037323,\n",
              "  0.9785166382789612,\n",
              "  0.979616641998291,\n",
              "  0.9805999994277954,\n",
              "  0.9815833568572998,\n",
              "  0.9823833107948303,\n",
              "  0.9832000136375427],\n",
              " 'loss': [0.9919227361679077,\n",
              "  0.37569043040275574,\n",
              "  0.3072398900985718,\n",
              "  0.27002647519111633,\n",
              "  0.24366094172000885,\n",
              "  0.2233579158782959,\n",
              "  0.20641325414180756,\n",
              "  0.19158123433589935,\n",
              "  0.17838852107524872,\n",
              "  0.16669321060180664,\n",
              "  0.15604428946971893,\n",
              "  0.14640390872955322,\n",
              "  0.13765692710876465,\n",
              "  0.1300203800201416,\n",
              "  0.12277048081159592,\n",
              "  0.11628832668066025,\n",
              "  0.1102389469742775,\n",
              "  0.1047639474272728,\n",
              "  0.09972552955150604,\n",
              "  0.09483867883682251,\n",
              "  0.0905875563621521,\n",
              "  0.0864182785153389,\n",
              "  0.0827593207359314,\n",
              "  0.07910067588090897,\n",
              "  0.07578640431165695,\n",
              "  0.07245536148548126,\n",
              "  0.0694991797208786,\n",
              "  0.06672204285860062,\n",
              "  0.06398099660873413,\n",
              "  0.06157673895359039]}"
            ]
          },
          "metadata": {
            "tags": []
          },
          "execution_count": 20
        }
      ]
    },
    {
      "cell_type": "code",
      "metadata": {
        "id": "WE5jWRfpjekz",
        "colab_type": "code",
        "colab": {
          "base_uri": "https://localhost:8080/",
          "height": 320
        },
        "outputId": "912e4b11-90cc-413a-a1bf-a4aa66ac67e0"
      },
      "source": [
        "import pandas as pd\n",
        "import matplotlib.pyplot as plt\n",
        "\n",
        "pd.DataFrame(history.history).plot(figsize=(8, 5))\n",
        "plt.grid(True)\n",
        "#plt.gca().set_ylim(0, 1) # set the vertical range to [0-1]\n",
        "#plt.gca().set_xlim(0, 1)\n",
        "plt.show()"
      ],
      "execution_count": 21,
      "outputs": [
        {
          "output_type": "display_data",
          "data": {
            "image/png": "[encoded data removed]",
            "text/plain": [
              "<Figure size 576x360 with 1 Axes>"
            ]
          },
          "metadata": {
            "tags": [],
            "needs_background": "light"
          }
        }
      ]
    },
    {
      "cell_type": "code",
      "metadata": {
        "id": "TeOuKHMvlhne",
        "colab_type": "code",
        "colab": {
          "base_uri": "https://localhost:8080/",
          "height": 156
        },
        "outputId": "53032c7a-fbcf-4093-a051-2f1c3994c605"
      },
      "source": [
        "model.save('epic_num_reader.model') # with your model, you can save it super easily:"
      ],
      "execution_count": 22,
      "outputs": [
        {
          "output_type": "stream",
          "text": [
            "WARNING:tensorflow:From /usr/local/lib/python3.6/dist-packages/tensorflow/python/training/tracking/tracking.py:111: Model.state_updates (from tensorflow.python.keras.engine.training) is deprecated and will be removed in a future version.\n",
            "Instructions for updating:\n",
            "This property should not be used in TensorFlow 2.0, as updates are applied automatically.\n",
            "WARNING:tensorflow:From /usr/local/lib/python3.6/dist-packages/tensorflow/python/training/tracking/tracking.py:111: Layer.updates (from tensorflow.python.keras.engine.base_layer) is deprecated and will be removed in a future version.\n",
            "Instructions for updating:\n",
            "This property should not be used in TensorFlow 2.0, as updates are applied automatically.\n",
            "INFO:tensorflow:Assets written to: epic_num_reader.model/assets\n"
          ],
          "name": "stdout"
        }
      ]
    },
    {
      "cell_type": "code",
      "metadata": {
        "id": "DoWU3mPQlqSb",
        "colab_type": "code",
        "colab": {}
      },
      "source": [
        "new_model = tf.keras.models.load_model('epic_num_reader.model')"
      ],
      "execution_count": 23,
      "outputs": []
    },
    {
      "cell_type": "code",
      "metadata": {
        "id": "qsDw1qoCmBq0",
        "colab_type": "code",
        "colab": {
          "base_uri": "https://localhost:8080/",
          "height": 238
        },
        "outputId": "16ed3e40-156e-4d63-f6cb-452ac13d6d9e"
      },
      "source": [
        "predictions = new_model.predict(X_test)\n",
        "print(predictions)"
      ],
      "execution_count": 24,
      "outputs": [
        {
          "output_type": "stream",
          "text": [
            "[[3.2848796e-08 1.1300473e-07 1.4641985e-05 ... 9.9969780e-01\n",
            "  4.8354050e-06 3.9640863e-06]\n",
            " [2.5556355e-06 3.0526645e-03 9.9519831e-01 ... 9.5411767e-10\n",
            "  3.6670244e-05 8.8377000e-11]\n",
            " [3.6808999e-07 9.9917835e-01 7.8840421e-05 ... 1.7474806e-04\n",
            "  1.9381272e-04 1.6812544e-05]\n",
            " ...\n",
            " [1.0255446e-09 6.0430352e-07 8.5296520e-08 ... 4.7274360e-05\n",
            "  1.8841412e-04 2.2230820e-04]\n",
            " [1.9347453e-05 4.7432400e-07 9.9842168e-08 ... 2.9134628e-07\n",
            "  6.5200875e-04 2.7267854e-08]\n",
            " [1.0882144e-04 1.3040707e-07 5.8976020e-05 ... 1.8729860e-09\n",
            "  6.0270929e-07 2.4174907e-08]]\n"
          ],
          "name": "stdout"
        }
      ]
    },
    {
      "cell_type": "code",
      "metadata": {
        "id": "e87pY3ROmRcS",
        "colab_type": "code",
        "colab": {
          "base_uri": "https://localhost:8080/",
          "height": 34
        },
        "outputId": "33abbe7d-417f-4b90-d6b1-815f83191faa"
      },
      "source": [
        "#That sure doesn't start off as helpful, \n",
        "# but recall these are probability distributions. We can get the actual number pretty simply:\n",
        "import numpy as np\n",
        "\n",
        "print(np.argmax(predictions[0]))  # Predictions of X_test of 0th index is 7"
      ],
      "execution_count": 25,
      "outputs": [
        {
          "output_type": "stream",
          "text": [
            "7\n"
          ],
          "name": "stdout"
        }
      ]
    },
    {
      "cell_type": "code",
      "metadata": {
        "id": "Us6t8D-onZjx",
        "colab_type": "code",
        "colab": {
          "base_uri": "https://localhost:8080/",
          "height": 265
        },
        "outputId": "dafac570-46d9-40ff-8263-1fa380a710e9"
      },
      "source": [
        "plt.imshow(X_test[0])\n",
        "plt.show()"
      ],
      "execution_count": 26,
      "outputs": [
        {
          "output_type": "display_data",
          "data": {
            "image/png": "[encoded data removed]",
            "text/plain": [
              "<Figure size 432x288 with 1 Axes>"
            ]
          },
          "metadata": {
            "tags": [],
            "needs_background": "light"
          }
        }
      ]
    }
  ]
}