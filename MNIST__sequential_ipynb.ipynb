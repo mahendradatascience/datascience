{
  "nbformat": 4,
  "nbformat_minor": 0,
  "metadata": {
    "colab": {
      "name": "MNIST _sequential_ipynb",
      "provenance": []
    },
    "kernelspec": {
      "name": "python3",
      "display_name": "Python 3"
    }
  },
  "cells": [
    {
      "cell_type": "code",
      "metadata": {
        "id": "7MwoHUYLld2D",
        "colab_type": "code",
        "colab": {}
      },
      "source": [
        "import tensorflow as tf\n",
        "from tensorflow import keras"
      ],
      "execution_count": null,
      "outputs": []
    },
    {
      "cell_type": "code",
      "metadata": {
        "id": "gDm1R6lzl6gp",
        "colab_type": "code",
        "colab": {
          "base_uri": "https://localhost:8080/",
          "height": 51
        },
        "outputId": "dd5188b3-5d20-469d-ed59-988bd8008292"
      },
      "source": [
        "mnist= keras.datasets.mnist\n",
        "(X_train_full , y_train_full) ,( X_test, y_test) = mnist.load_data()"
      ],
      "execution_count": null,
      "outputs": [
        {
          "output_type": "stream",
          "text": [
            "Downloading data from https://storage.googleapis.com/tensorflow/tf-keras-datasets/mnist.npz\n",
            "11493376/11490434 [==============================] - 0s 0us/step\n"
          ],
          "name": "stdout"
        }
      ]
    },
    {
      "cell_type": "code",
      "metadata": {
        "id": "GNwjK5Wp6zfi",
        "colab_type": "code",
        "colab": {
          "base_uri": "https://localhost:8080/",
          "height": 265
        },
        "outputId": "e04bbf09-1e49-4791-c562-83dc6ac9595f"
      },
      "source": [
        "digit = X_train_full[5]\n",
        "import matplotlib.pyplot as plt\n",
        "plt.imshow(digit, cmap=plt.cm.binary)\n",
        "plt.show()"
      ],
      "execution_count": null,
      "outputs": [
        {
          "output_type": "display_data",
          "data": {
            "image/png": "[encoded data removed]",
            "text/plain": [
              "<Figure size 432x288 with 1 Axes>"
            ]
          },
          "metadata": {
            "tags": [],
            "needs_background": "light"
          }
        }
      ]
    },
    {
      "cell_type": "code",
      "metadata": {
        "id": "1PHe0LWRnbXQ",
        "colab_type": "code",
        "colab": {
          "base_uri": "https://localhost:8080/",
          "height": 34
        },
        "outputId": "b8cc24e5-717c-46ab-fda7-18e05e392bf3"
      },
      "source": [
        "X_test.shape"
      ],
      "execution_count": null,
      "outputs": [
        {
          "output_type": "execute_result",
          "data": {
            "text/plain": [
              "(10000, 28, 28)"
            ]
          },
          "metadata": {
            "tags": []
          },
          "execution_count": 3
        }
      ]
    },
    {
      "cell_type": "code",
      "metadata": {
        "id": "60AQm5dDniMC",
        "colab_type": "code",
        "colab": {
          "base_uri": "https://localhost:8080/",
          "height": 34
        },
        "outputId": "abbbddee-ec93-4f81-9962-1d617e0b93f9"
      },
      "source": [
        "X_train_full.dtype"
      ],
      "execution_count": null,
      "outputs": [
        {
          "output_type": "execute_result",
          "data": {
            "text/plain": [
              "dtype('uint8')"
            ]
          },
          "metadata": {
            "tags": []
          },
          "execution_count": 4
        }
      ]
    },
    {
      "cell_type": "code",
      "metadata": {
        "id": "HWtGU1DEnpAs",
        "colab_type": "code",
        "colab": {}
      },
      "source": [
        "X_valid, X_train = X_train_full[:5000] / 255.0, X_train_full[5000:] / 255.0\n",
        "y_valid, y_train = y_train_full[:5000], y_train_full[5000:]"
      ],
      "execution_count": null,
      "outputs": []
    },
    {
      "cell_type": "code",
      "metadata": {
        "id": "gIa8K6_1r01L",
        "colab_type": "code",
        "colab": {}
      },
      "source": [
        "model = keras.models.Sequential()\n",
        "model.add(keras.layers.Flatten(input_shape=[28, 28]))\n",
        "model.add(keras.layers.Dense(300, activation=\"relu\"))\n",
        "model.add(keras.layers.Dense(100, activation=\"relu\"))\n",
        "model.add(keras.layers.Dense(10, activation=\"softmax\"))"
      ],
      "execution_count": null,
      "outputs": []
    },
    {
      "cell_type": "code",
      "metadata": {
        "id": "cAYliW6ssq2h",
        "colab_type": "code",
        "colab": {
          "base_uri": "https://localhost:8080/",
          "height": 289
        },
        "outputId": "08e9cbd0-60f6-4cf0-9ad9-a6a70d034e02"
      },
      "source": [
        "model.summary()"
      ],
      "execution_count": null,
      "outputs": [
        {
          "output_type": "stream",
          "text": [
            "Model: \"sequential\"\n",
            "_________________________________________________________________\n",
            "Layer (type)                 Output Shape              Param #   \n",
            "=================================================================\n",
            "flatten (Flatten)            (None, 784)               0         \n",
            "_________________________________________________________________\n",
            "dense (Dense)                (None, 300)               235500    \n",
            "_________________________________________________________________\n",
            "dense_1 (Dense)              (None, 100)               30100     \n",
            "_________________________________________________________________\n",
            "dense_2 (Dense)              (None, 10)                1010      \n",
            "=================================================================\n",
            "Total params: 266,610\n",
            "Trainable params: 266,610\n",
            "Non-trainable params: 0\n",
            "_________________________________________________________________\n"
          ],
          "name": "stdout"
        }
      ]
    },
    {
      "cell_type": "code",
      "metadata": {
        "id": "U0IqaPGfs2eG",
        "colab_type": "code",
        "colab": {
          "base_uri": "https://localhost:8080/",
          "height": 85
        },
        "outputId": "b09c05b3-eef3-4b60-eda6-9f9bcd0ea50d"
      },
      "source": [
        "model.layers"
      ],
      "execution_count": null,
      "outputs": [
        {
          "output_type": "execute_result",
          "data": {
            "text/plain": [
              "[<tensorflow.python.keras.layers.core.Flatten at 0x7fdbfe154780>,\n",
              " <tensorflow.python.keras.layers.core.Dense at 0x7fdbfe154fd0>,\n",
              " <tensorflow.python.keras.layers.core.Dense at 0x7fdbfd905518>,\n",
              " <tensorflow.python.keras.layers.core.Dense at 0x7fdbfd905860>]"
            ]
          },
          "metadata": {
            "tags": []
          },
          "execution_count": 9
        }
      ]
    },
    {
      "cell_type": "code",
      "metadata": {
        "id": "3c-YJvz8s-eg",
        "colab_type": "code",
        "colab": {
          "base_uri": "https://localhost:8080/",
          "height": 35
        },
        "outputId": "aa30b1b3-9d64-41b1-a366-71fc3ffc359c"
      },
      "source": [
        "model.layers[1].name"
      ],
      "execution_count": null,
      "outputs": [
        {
          "output_type": "execute_result",
          "data": {
            "application/vnd.google.colaboratory.intrinsic+json": {
              "type": "string"
            },
            "text/plain": [
              "'dense'"
            ]
          },
          "metadata": {
            "tags": []
          },
          "execution_count": 10
        }
      ]
    },
    {
      "cell_type": "code",
      "metadata": {
        "id": "e-D5g65RteQV",
        "colab_type": "code",
        "colab": {}
      },
      "source": [
        "model.compile(loss=\"sparse_categorical_crossentropy\",\n",
        "optimizer=\"sgd\",\n",
        "metrics=[\"accuracy\"])"
      ],
      "execution_count": null,
      "outputs": []
    },
    {
      "cell_type": "code",
      "metadata": {
        "id": "Zv5vRoLeuUyh",
        "colab_type": "code",
        "colab": {
          "base_uri": "https://localhost:8080/",
          "height": 1000
        },
        "outputId": "9b778ad7-ef60-4a63-906b-a264dfed6a5a"
      },
      "source": [
        "history = model.fit(X_train, y_train, epochs=30 , validation_data=(X_valid, y_valid))"
      ],
      "execution_count": null,
      "outputs": [
        {
          "output_type": "stream",
          "text": [
            "Epoch 1/30\n",
            "1719/1719 [==============================] - 4s 2ms/step - loss: 0.0040 - accuracy: 0.9999 - val_loss: 0.0712 - val_accuracy: 0.9804\n",
            "Epoch 2/30\n",
            "1719/1719 [==============================] - 4s 2ms/step - loss: 0.0039 - accuracy: 0.9999 - val_loss: 0.0709 - val_accuracy: 0.9814\n",
            "Epoch 3/30\n",
            "1719/1719 [==============================] - 4s 2ms/step - loss: 0.0038 - accuracy: 0.9999 - val_loss: 0.0712 - val_accuracy: 0.9808\n",
            "Epoch 4/30\n",
            "1719/1719 [==============================] - 4s 2ms/step - loss: 0.0036 - accuracy: 0.9999 - val_loss: 0.0712 - val_accuracy: 0.9810\n",
            "Epoch 5/30\n",
            "1719/1719 [==============================] - 4s 2ms/step - loss: 0.0036 - accuracy: 0.9999 - val_loss: 0.0711 - val_accuracy: 0.9810\n",
            "Epoch 6/30\n",
            "1719/1719 [==============================] - 4s 2ms/step - loss: 0.0034 - accuracy: 0.9999 - val_loss: 0.0718 - val_accuracy: 0.9812\n",
            "Epoch 7/30\n",
            "1719/1719 [==============================] - 4s 2ms/step - loss: 0.0034 - accuracy: 0.9999 - val_loss: 0.0726 - val_accuracy: 0.9810\n",
            "Epoch 8/30\n",
            "1719/1719 [==============================] - 4s 2ms/step - loss: 0.0033 - accuracy: 1.0000 - val_loss: 0.0720 - val_accuracy: 0.9818\n",
            "Epoch 9/30\n",
            "1719/1719 [==============================] - 4s 2ms/step - loss: 0.0032 - accuracy: 1.0000 - val_loss: 0.0724 - val_accuracy: 0.9816\n",
            "Epoch 10/30\n",
            "1719/1719 [==============================] - 4s 2ms/step - loss: 0.0031 - accuracy: 1.0000 - val_loss: 0.0722 - val_accuracy: 0.9812\n",
            "Epoch 11/30\n",
            "1719/1719 [==============================] - 4s 2ms/step - loss: 0.0030 - accuracy: 1.0000 - val_loss: 0.0723 - val_accuracy: 0.9820\n",
            "Epoch 12/30\n",
            "1719/1719 [==============================] - 4s 2ms/step - loss: 0.0029 - accuracy: 1.0000 - val_loss: 0.0739 - val_accuracy: 0.9802\n",
            "Epoch 13/30\n",
            "1719/1719 [==============================] - 4s 2ms/step - loss: 0.0029 - accuracy: 1.0000 - val_loss: 0.0729 - val_accuracy: 0.9814\n",
            "Epoch 14/30\n",
            "1719/1719 [==============================] - 4s 2ms/step - loss: 0.0028 - accuracy: 1.0000 - val_loss: 0.0734 - val_accuracy: 0.9812\n",
            "Epoch 15/30\n",
            "1719/1719 [==============================] - 4s 2ms/step - loss: 0.0027 - accuracy: 1.0000 - val_loss: 0.0731 - val_accuracy: 0.9810\n",
            "Epoch 16/30\n",
            "1719/1719 [==============================] - 4s 2ms/step - loss: 0.0027 - accuracy: 1.0000 - val_loss: 0.0732 - val_accuracy: 0.9812\n",
            "Epoch 17/30\n",
            "1719/1719 [==============================] - 4s 2ms/step - loss: 0.0026 - accuracy: 1.0000 - val_loss: 0.0739 - val_accuracy: 0.9812\n",
            "Epoch 18/30\n",
            "1719/1719 [==============================] - 4s 2ms/step - loss: 0.0026 - accuracy: 1.0000 - val_loss: 0.0735 - val_accuracy: 0.9812\n",
            "Epoch 19/30\n",
            "1719/1719 [==============================] - 4s 2ms/step - loss: 0.0025 - accuracy: 1.0000 - val_loss: 0.0737 - val_accuracy: 0.9816\n",
            "Epoch 20/30\n",
            "1719/1719 [==============================] - 4s 2ms/step - loss: 0.0024 - accuracy: 1.0000 - val_loss: 0.0739 - val_accuracy: 0.9814\n",
            "Epoch 21/30\n",
            "1719/1719 [==============================] - 4s 2ms/step - loss: 0.0024 - accuracy: 1.0000 - val_loss: 0.0741 - val_accuracy: 0.9816\n",
            "Epoch 22/30\n",
            "1719/1719 [==============================] - 4s 2ms/step - loss: 0.0023 - accuracy: 1.0000 - val_loss: 0.0742 - val_accuracy: 0.9814\n",
            "Epoch 23/30\n",
            "1719/1719 [==============================] - 4s 2ms/step - loss: 0.0023 - accuracy: 1.0000 - val_loss: 0.0744 - val_accuracy: 0.9812\n",
            "Epoch 24/30\n",
            "1719/1719 [==============================] - 4s 2ms/step - loss: 0.0022 - accuracy: 1.0000 - val_loss: 0.0742 - val_accuracy: 0.9814\n",
            "Epoch 25/30\n",
            "1719/1719 [==============================] - 4s 2ms/step - loss: 0.0022 - accuracy: 1.0000 - val_loss: 0.0744 - val_accuracy: 0.9816\n",
            "Epoch 26/30\n",
            "1719/1719 [==============================] - 4s 2ms/step - loss: 0.0021 - accuracy: 1.0000 - val_loss: 0.0747 - val_accuracy: 0.9808\n",
            "Epoch 27/30\n",
            "1719/1719 [==============================] - 4s 2ms/step - loss: 0.0021 - accuracy: 1.0000 - val_loss: 0.0745 - val_accuracy: 0.9812\n",
            "Epoch 28/30\n",
            "1719/1719 [==============================] - 4s 2ms/step - loss: 0.0021 - accuracy: 1.0000 - val_loss: 0.0756 - val_accuracy: 0.9812\n",
            "Epoch 29/30\n",
            "1719/1719 [==============================] - 4s 2ms/step - loss: 0.0020 - accuracy: 1.0000 - val_loss: 0.0754 - val_accuracy: 0.9810\n",
            "Epoch 30/30\n",
            "1719/1719 [==============================] - 4s 2ms/step - loss: 0.0020 - accuracy: 1.0000 - val_loss: 0.0754 - val_accuracy: 0.9812\n"
          ],
          "name": "stdout"
        }
      ]
    },
    {
      "cell_type": "code",
      "metadata": {
        "id": "Atmv-y0MwLsy",
        "colab_type": "code",
        "colab": {
          "base_uri": "https://localhost:8080/",
          "height": 1000
        },
        "outputId": "6ea9c6df-30e4-4694-b270-f2181799f089"
      },
      "source": [
        "history.history"
      ],
      "execution_count": null,
      "outputs": [
        {
          "output_type": "execute_result",
          "data": {
            "text/plain": [
              "{'accuracy': [0.999927282333374,\n",
              "  0.9999091029167175,\n",
              "  0.999854564666748,\n",
              "  0.999927282333374,\n",
              "  0.9999091029167175,\n",
              "  0.9999454617500305,\n",
              "  0.9999454617500305,\n",
              "  0.999963641166687,\n",
              "  0.9999818205833435,\n",
              "  0.999963641166687,\n",
              "  0.9999818205833435,\n",
              "  0.9999818205833435,\n",
              "  0.9999818205833435,\n",
              "  0.9999818205833435,\n",
              "  0.999963641166687,\n",
              "  0.9999818205833435,\n",
              "  0.9999818205833435,\n",
              "  0.9999818205833435,\n",
              "  0.9999818205833435,\n",
              "  0.9999818205833435,\n",
              "  0.9999818205833435,\n",
              "  0.9999818205833435,\n",
              "  0.9999818205833435,\n",
              "  0.999963641166687,\n",
              "  0.9999818205833435,\n",
              "  0.9999818205833435,\n",
              "  0.9999818205833435,\n",
              "  0.9999818205833435,\n",
              "  0.9999818205833435,\n",
              "  0.9999818205833435],\n",
              " 'loss': [0.003995833452790976,\n",
              "  0.0038822623901069164,\n",
              "  0.003783145220950246,\n",
              "  0.003624818054959178,\n",
              "  0.0035596638917922974,\n",
              "  0.0034488975070416927,\n",
              "  0.003352092346176505,\n",
              "  0.003268903587013483,\n",
              "  0.0031870154198259115,\n",
              "  0.0030960177537053823,\n",
              "  0.0030180267058312893,\n",
              "  0.0029495388735085726,\n",
              "  0.00286276382394135,\n",
              "  0.0028068171814084053,\n",
              "  0.002738812007009983,\n",
              "  0.0026744746137410402,\n",
              "  0.002608598442748189,\n",
              "  0.0025509868282824755,\n",
              "  0.0025045962538570166,\n",
              "  0.0024425783194601536,\n",
              "  0.00238686497323215,\n",
              "  0.002337391721084714,\n",
              "  0.0022831824608147144,\n",
              "  0.002246207557618618,\n",
              "  0.0021980800665915012,\n",
              "  0.0021461884025484324,\n",
              "  0.0021191767882555723,\n",
              "  0.002066893968731165,\n",
              "  0.002030511386692524,\n",
              "  0.0019911876879632473],\n",
              " 'val_accuracy': [0.980400025844574,\n",
              "  0.9814000129699707,\n",
              "  0.9807999730110168,\n",
              "  0.9810000061988831,\n",
              "  0.9810000061988831,\n",
              "  0.9811999797821045,\n",
              "  0.9810000061988831,\n",
              "  0.9818000197410583,\n",
              "  0.9815999865531921,\n",
              "  0.9811999797821045,\n",
              "  0.9819999933242798,\n",
              "  0.9801999926567078,\n",
              "  0.9814000129699707,\n",
              "  0.9811999797821045,\n",
              "  0.9810000061988831,\n",
              "  0.9811999797821045,\n",
              "  0.9811999797821045,\n",
              "  0.9811999797821045,\n",
              "  0.9815999865531921,\n",
              "  0.9814000129699707,\n",
              "  0.9815999865531921,\n",
              "  0.9814000129699707,\n",
              "  0.9811999797821045,\n",
              "  0.9814000129699707,\n",
              "  0.9815999865531921,\n",
              "  0.9807999730110168,\n",
              "  0.9811999797821045,\n",
              "  0.9811999797821045,\n",
              "  0.9810000061988831,\n",
              "  0.9811999797821045],\n",
              " 'val_loss': [0.07117193937301636,\n",
              "  0.07093832641839981,\n",
              "  0.07115897536277771,\n",
              "  0.07120835781097412,\n",
              "  0.07112087309360504,\n",
              "  0.07177846878767014,\n",
              "  0.07255224883556366,\n",
              "  0.07203619182109833,\n",
              "  0.072449691593647,\n",
              "  0.07223066687583923,\n",
              "  0.0722675770521164,\n",
              "  0.07390323281288147,\n",
              "  0.07285080850124359,\n",
              "  0.07339013367891312,\n",
              "  0.0731363520026207,\n",
              "  0.07315439730882645,\n",
              "  0.07393396645784378,\n",
              "  0.07354038953781128,\n",
              "  0.0736861601471901,\n",
              "  0.0739116370677948,\n",
              "  0.07410665601491928,\n",
              "  0.07415852695703506,\n",
              "  0.07443737983703613,\n",
              "  0.07415830343961716,\n",
              "  0.07443755865097046,\n",
              "  0.07473525404930115,\n",
              "  0.07451999187469482,\n",
              "  0.07560079544782639,\n",
              "  0.07542772591114044,\n",
              "  0.07542691379785538]}"
            ]
          },
          "metadata": {
            "tags": []
          },
          "execution_count": 19
        }
      ]
    },
    {
      "cell_type": "code",
      "metadata": {
        "id": "FdTbKwcGwmiK",
        "colab_type": "code",
        "colab": {
          "base_uri": "https://localhost:8080/",
          "height": 324
        },
        "outputId": "68fb4189-b489-4623-e942-256bcafc30d0"
      },
      "source": [
        "import pandas as pd\n",
        "import matplotlib.pyplot as plt\n",
        "\n",
        "pd.DataFrame(history.history).plot(figsize=(8, 5))\n",
        "plt.grid(True)\n",
        "plt.gca().set_ylim(0, 1) # set the vertical range to [0-1]\n",
        "plt.show()"
      ],
      "execution_count": null,
      "outputs": [
        {
          "output_type": "display_data",
          "data": {
            "image/png": "[encoded data removed]",
            "text/plain": [
              "<Figure size 576x360 with 1 Axes>"
            ]
          },
          "metadata": {
            "tags": [],
            "needs_background": "light"
          }
        }
      ]
    },
    {
      "cell_type": "code",
      "metadata": {
        "id": "RIadekzcxVPO",
        "colab_type": "code",
        "colab": {
          "base_uri": "https://localhost:8080/",
          "height": 51
        },
        "outputId": "210f93c4-839d-4a5e-cc75-a840f4024598"
      },
      "source": [
        "model.evaluate(X_test, y_test)"
      ],
      "execution_count": null,
      "outputs": [
        {
          "output_type": "stream",
          "text": [
            "313/313 [==============================] - 0s 2ms/step - loss: 19.1788 - accuracy: 0.9761\n"
          ],
          "name": "stdout"
        },
        {
          "output_type": "execute_result",
          "data": {
            "text/plain": [
              "[19.178810119628906, 0.9761000275611877]"
            ]
          },
          "metadata": {
            "tags": []
          },
          "execution_count": 22
        }
      ]
    },
    {
      "cell_type": "code",
      "metadata": {
        "id": "9i9KWtiPyrZJ",
        "colab_type": "code",
        "colab": {
          "base_uri": "https://localhost:8080/",
          "height": 68
        },
        "outputId": "4d443fe0-fb47-49a3-b514-98e7638d0d54"
      },
      "source": [
        "X_new = X_test[:3]\n",
        "y_proba = model.predict(X_new)\n",
        "y_proba"
      ],
      "execution_count": null,
      "outputs": [
        {
          "output_type": "execute_result",
          "data": {
            "text/plain": [
              "array([[0., 0., 0., 0., 0., 0., 0., 1., 0., 0.],\n",
              "       [0., 0., 1., 0., 0., 0., 0., 0., 0., 0.],\n",
              "       [0., 1., 0., 0., 0., 0., 0., 0., 0., 0.]], dtype=float32)"
            ]
          },
          "metadata": {
            "tags": []
          },
          "execution_count": 26
        }
      ]
    },
    {
      "cell_type": "code",
      "metadata": {
        "id": "2axnnoQDzLkt",
        "colab_type": "code",
        "colab": {
          "base_uri": "https://localhost:8080/",
          "height": 88
        },
        "outputId": "829416c9-3a2e-4e86-8f3e-571059b96a65"
      },
      "source": [
        "y_pred = model.predict_classes(X_new)"
      ],
      "execution_count": null,
      "outputs": [
        {
          "output_type": "stream",
          "text": [
            "WARNING:tensorflow:From <ipython-input-27-53f3df9ca645>:1: Sequential.predict_classes (from tensorflow.python.keras.engine.sequential) is deprecated and will be removed after 2021-01-01.\n",
            "Instructions for updating:\n",
            "Please use instead:* `np.argmax(model.predict(x), axis=-1)`,   if your model does multi-class classification   (e.g. if it uses a `softmax` last-layer activation).* `(model.predict(x) > 0.5).astype(\"int32\")`,   if your model does binary classification   (e.g. if it uses a `sigmoid` last-layer activation).\n"
          ],
          "name": "stdout"
        }
      ]
    },
    {
      "cell_type": "code",
      "metadata": {
        "id": "YlhGU67qyZ3p",
        "colab_type": "code",
        "colab": {
          "base_uri": "https://localhost:8080/",
          "height": 34
        },
        "outputId": "f22a629d-a1c9-481b-87b1-c8cc37092997"
      },
      "source": [
        "y_pred"
      ],
      "execution_count": null,
      "outputs": [
        {
          "output_type": "execute_result",
          "data": {
            "text/plain": [
              "array([7, 2, 1])"
            ]
          },
          "metadata": {
            "tags": []
          },
          "execution_count": 28
        }
      ]
    },
    {
      "cell_type": "code",
      "metadata": {
        "id": "ghN8DL9Kzz3j",
        "colab_type": "code",
        "colab": {
          "base_uri": "https://localhost:8080/",
          "height": 34
        },
        "outputId": "33ffb948-0078-435e-cf37-582336cda109"
      },
      "source": [
        "import numpy as np\n",
        "\n",
        "np.argmax(model.predict(X_new), axis=-1)"
      ],
      "execution_count": null,
      "outputs": [
        {
          "output_type": "execute_result",
          "data": {
            "text/plain": [
              "array([7, 2, 1])"
            ]
          },
          "metadata": {
            "tags": []
          },
          "execution_count": 30
        }
      ]
    }
  ]
}