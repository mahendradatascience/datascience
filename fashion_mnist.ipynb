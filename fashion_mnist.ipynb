{
  "nbformat": 4,
  "nbformat_minor": 0,
  "metadata": {
    "colab": {
      "name": "fashion_mnist.ipynb",
      "provenance": [],
      "collapsed_sections": []
    },
    "kernelspec": {
      "name": "python3",
      "display_name": "Python 3"
    }
  },
  "cells": [
    {
      "cell_type": "code",
      "metadata": {
        "id": "txBfccNoTywv",
        "colab_type": "code",
        "colab": {
          "base_uri": "https://localhost:8080/",
          "height": 1000
        },
        "outputId": "972b8a7e-2641-4cd6-b233-ccdff0614353"
      },
      "source": [
        "import tensorflow as tf\n",
        "from tensorflow import keras\n",
        "fashion_mnist = keras.datasets.fashion_mnist\n",
        "(X_train_full, y_train_full), (X_test, y_test) = fashion_mnist.load_data()\n",
        "X_train_full.shape\n",
        "X_train_full.dtype\n",
        "X_valid, X_train = X_train_full[:5000] / 255.0, X_train_full[5000:] / 255.0\n",
        "y_valid, y_train = y_train_full[:5000], y_train_full[5000:]\n",
        "class_names = [\"T-shirt/top\", \"Trouser\", \"Pullover\", \"Dress\", \"Coat\",\n",
        "\"Sandal\", \"Shirt\", \"Sneaker\", \"Bag\", \"Ankle boot\"]\n",
        "class_names[y_train[0]]\n",
        "model = keras.models.Sequential()\n",
        "model.add(keras.layers.Flatten(input_shape=[28, 28]))\n",
        "model.add(keras.layers.Dense(300, activation=\"relu\"))\n",
        "model.add(keras.layers.Dense(100, activation=\"relu\"))\n",
        "model.add(keras.layers.Dense(10, activation=\"softmax\"))\n",
        "model.summary()\n",
        "model.layers\n",
        "model.layers[1].name\n",
        "\n",
        "model.compile(loss=\"sparse_categorical_crossentropy\",\n",
        "optimizer=\"sgd\",\n",
        "metrics=[\"accuracy\"])\n",
        "history = model.fit(X_train, y_train, epochs=30, validation_data=(X_valid, y_valid))\n",
        "\n",
        "\n"
      ],
      "execution_count": null,
      "outputs": [
        {
          "output_type": "stream",
          "text": [
            "Downloading data from https://storage.googleapis.com/tensorflow/tf-keras-datasets/train-labels-idx1-ubyte.gz\n",
            "32768/29515 [=================================] - 0s 0us/step\n",
            "Downloading data from https://storage.googleapis.com/tensorflow/tf-keras-datasets/train-images-idx3-ubyte.gz\n",
            "26427392/26421880 [==============================] - 0s 0us/step\n",
            "Downloading data from https://storage.googleapis.com/tensorflow/tf-keras-datasets/t10k-labels-idx1-ubyte.gz\n",
            "8192/5148 [===============================================] - 0s 0us/step\n",
            "Downloading data from https://storage.googleapis.com/tensorflow/tf-keras-datasets/t10k-images-idx3-ubyte.gz\n",
            "4423680/4422102 [==============================] - 0s 0us/step\n",
            "Model: \"sequential\"\n",
            "_________________________________________________________________\n",
            "Layer (type)                 Output Shape              Param #   \n",
            "=================================================================\n",
            "flatten (Flatten)            (None, 784)               0         \n",
            "_________________________________________________________________\n",
            "dense (Dense)                (None, 300)               235500    \n",
            "_________________________________________________________________\n",
            "dense_1 (Dense)              (None, 100)               30100     \n",
            "_________________________________________________________________\n",
            "dense_2 (Dense)              (None, 10)                1010      \n",
            "=================================================================\n",
            "Total params: 266,610\n",
            "Trainable params: 266,610\n",
            "Non-trainable params: 0\n",
            "_________________________________________________________________\n",
            "Epoch 1/30\n",
            "1719/1719 [==============================] - 4s 3ms/step - loss: 0.7262 - accuracy: 0.7626 - val_loss: 0.5268 - val_accuracy: 0.8186\n",
            "Epoch 2/30\n",
            "1719/1719 [==============================] - 4s 2ms/step - loss: 0.4935 - accuracy: 0.8283 - val_loss: 0.4739 - val_accuracy: 0.8340\n",
            "Epoch 3/30\n",
            "1719/1719 [==============================] - 4s 3ms/step - loss: 0.4476 - accuracy: 0.8434 - val_loss: 0.4584 - val_accuracy: 0.8424\n",
            "Epoch 4/30\n",
            "1719/1719 [==============================] - 4s 2ms/step - loss: 0.4203 - accuracy: 0.8525 - val_loss: 0.3923 - val_accuracy: 0.8662\n",
            "Epoch 5/30\n",
            "1719/1719 [==============================] - 4s 2ms/step - loss: 0.3997 - accuracy: 0.8599 - val_loss: 0.3936 - val_accuracy: 0.8686\n",
            "Epoch 6/30\n",
            "1719/1719 [==============================] - 4s 2ms/step - loss: 0.3822 - accuracy: 0.8657 - val_loss: 0.3852 - val_accuracy: 0.8664\n",
            "Epoch 7/30\n",
            "1719/1719 [==============================] - 4s 2ms/step - loss: 0.3682 - accuracy: 0.8707 - val_loss: 0.3873 - val_accuracy: 0.8634\n",
            "Epoch 8/30\n",
            "1719/1719 [==============================] - 4s 3ms/step - loss: 0.3563 - accuracy: 0.8747 - val_loss: 0.3756 - val_accuracy: 0.8684\n",
            "Epoch 9/30\n",
            "1719/1719 [==============================] - 4s 2ms/step - loss: 0.3458 - accuracy: 0.8770 - val_loss: 0.3471 - val_accuracy: 0.8786\n",
            "Epoch 10/30\n",
            "1719/1719 [==============================] - 4s 2ms/step - loss: 0.3343 - accuracy: 0.8808 - val_loss: 0.3531 - val_accuracy: 0.8734\n",
            "Epoch 11/30\n",
            "1719/1719 [==============================] - 4s 2ms/step - loss: 0.3263 - accuracy: 0.8835 - val_loss: 0.3635 - val_accuracy: 0.8716\n",
            "Epoch 12/30\n",
            "1719/1719 [==============================] - 4s 2ms/step - loss: 0.3180 - accuracy: 0.8859 - val_loss: 0.3389 - val_accuracy: 0.8810\n",
            "Epoch 13/30\n",
            "1719/1719 [==============================] - 4s 2ms/step - loss: 0.3105 - accuracy: 0.8888 - val_loss: 0.3282 - val_accuracy: 0.8848\n",
            "Epoch 14/30\n",
            "1719/1719 [==============================] - 4s 2ms/step - loss: 0.3025 - accuracy: 0.8921 - val_loss: 0.3303 - val_accuracy: 0.8800\n",
            "Epoch 15/30\n",
            "1719/1719 [==============================] - 4s 2ms/step - loss: 0.2966 - accuracy: 0.8948 - val_loss: 0.3285 - val_accuracy: 0.8834\n",
            "Epoch 16/30\n",
            "1719/1719 [==============================] - 4s 2ms/step - loss: 0.2906 - accuracy: 0.8950 - val_loss: 0.3199 - val_accuracy: 0.8822\n",
            "Epoch 17/30\n",
            "1719/1719 [==============================] - 4s 2ms/step - loss: 0.2850 - accuracy: 0.8972 - val_loss: 0.3159 - val_accuracy: 0.8882\n",
            "Epoch 18/30\n",
            "1719/1719 [==============================] - 4s 2ms/step - loss: 0.2796 - accuracy: 0.8993 - val_loss: 0.3166 - val_accuracy: 0.8872\n",
            "Epoch 19/30\n",
            "1719/1719 [==============================] - 4s 2ms/step - loss: 0.2746 - accuracy: 0.9011 - val_loss: 0.3247 - val_accuracy: 0.8796\n",
            "Epoch 20/30\n",
            "1719/1719 [==============================] - 4s 2ms/step - loss: 0.2684 - accuracy: 0.9030 - val_loss: 0.3175 - val_accuracy: 0.8862\n",
            "Epoch 21/30\n",
            "1719/1719 [==============================] - 4s 2ms/step - loss: 0.2642 - accuracy: 0.9038 - val_loss: 0.3045 - val_accuracy: 0.8892\n",
            "Epoch 22/30\n",
            "1719/1719 [==============================] - 4s 2ms/step - loss: 0.2587 - accuracy: 0.9057 - val_loss: 0.3258 - val_accuracy: 0.8804\n",
            "Epoch 23/30\n",
            "1719/1719 [==============================] - 4s 3ms/step - loss: 0.2545 - accuracy: 0.9077 - val_loss: 0.3020 - val_accuracy: 0.8932\n",
            "Epoch 24/30\n",
            "1719/1719 [==============================] - 4s 2ms/step - loss: 0.2491 - accuracy: 0.9096 - val_loss: 0.3122 - val_accuracy: 0.8882\n",
            "Epoch 25/30\n",
            "1719/1719 [==============================] - 4s 2ms/step - loss: 0.2450 - accuracy: 0.9110 - val_loss: 0.3038 - val_accuracy: 0.8888\n",
            "Epoch 26/30\n",
            "1719/1719 [==============================] - 4s 2ms/step - loss: 0.2413 - accuracy: 0.9130 - val_loss: 0.3253 - val_accuracy: 0.8824\n",
            "Epoch 27/30\n",
            "1719/1719 [==============================] - 4s 2ms/step - loss: 0.2377 - accuracy: 0.9136 - val_loss: 0.2978 - val_accuracy: 0.8922\n",
            "Epoch 28/30\n",
            "1719/1719 [==============================] - 4s 2ms/step - loss: 0.2327 - accuracy: 0.9153 - val_loss: 0.3011 - val_accuracy: 0.8932\n",
            "Epoch 29/30\n",
            "1719/1719 [==============================] - 4s 3ms/step - loss: 0.2290 - accuracy: 0.9164 - val_loss: 0.3032 - val_accuracy: 0.8898\n",
            "Epoch 30/30\n",
            "1719/1719 [==============================] - 4s 2ms/step - loss: 0.2260 - accuracy: 0.9185 - val_loss: 0.3095 - val_accuracy: 0.8888\n"
          ],
          "name": "stdout"
        }
      ]
    },
    {
      "cell_type": "code",
      "metadata": {
        "id": "-mFUEjwJcICZ",
        "colab_type": "code",
        "colab": {}
      },
      "source": [
        ""
      ],
      "execution_count": null,
      "outputs": []
    },
    {
      "cell_type": "code",
      "metadata": {
        "id": "bceNQ4ubWUT-",
        "colab_type": "code",
        "colab": {
          "base_uri": "https://localhost:8080/",
          "height": 34
        },
        "outputId": "767606bf-7a79-425d-9d5b-900064f311d3"
      },
      "source": [
        "history.params"
      ],
      "execution_count": null,
      "outputs": [
        {
          "output_type": "execute_result",
          "data": {
            "text/plain": [
              "{'epochs': 30, 'steps': 1719, 'verbose': 1}"
            ]
          },
          "metadata": {
            "tags": []
          },
          "execution_count": 2
        }
      ]
    },
    {
      "cell_type": "code",
      "metadata": {
        "id": "4j1fZgMyOS70",
        "colab_type": "code",
        "colab": {}
      },
      "source": [
        "#history.epoch"
      ],
      "execution_count": null,
      "outputs": []
    },
    {
      "cell_type": "code",
      "metadata": {
        "id": "p-RobZs7RORu",
        "colab_type": "code",
        "colab": {}
      },
      "source": [
        "#history.history"
      ],
      "execution_count": null,
      "outputs": []
    },
    {
      "cell_type": "code",
      "metadata": {
        "id": "GVyNu3sWTWNN",
        "colab_type": "code",
        "colab": {
          "base_uri": "https://localhost:8080/",
          "height": 979
        },
        "outputId": "46707299-dd3b-4e33-c9b9-e892ce73002b"
      },
      "source": [
        "import pandas as pd\n",
        "df=pd.DataFrame(history.history)\n",
        "df"
      ],
      "execution_count": null,
      "outputs": [
        {
          "output_type": "execute_result",
          "data": {
            "text/html": [
              "<div>\n",
              "<style scoped>\n",
              "    .dataframe tbody tr th:only-of-type {\n",
              "        vertical-align: middle;\n",
              "    }\n",
              "\n",
              "    .dataframe tbody tr th {\n",
              "        vertical-align: top;\n",
              "    }\n",
              "\n",
              "    .dataframe thead th {\n",
              "        text-align: right;\n",
              "    }\n",
              "</style>\n",
              "<table border=\"1\" class=\"dataframe\">\n",
              "  <thead>\n",
              "    <tr style=\"text-align: right;\">\n",
              "      <th></th>\n",
              "      <th>loss</th>\n",
              "      <th>accuracy</th>\n",
              "      <th>val_loss</th>\n",
              "      <th>val_accuracy</th>\n",
              "    </tr>\n",
              "  </thead>\n",
              "  <tbody>\n",
              "    <tr>\n",
              "      <th>0</th>\n",
              "      <td>0.726195</td>\n",
              "      <td>0.762582</td>\n",
              "      <td>0.526754</td>\n",
              "      <td>0.8186</td>\n",
              "    </tr>\n",
              "    <tr>\n",
              "      <th>1</th>\n",
              "      <td>0.493458</td>\n",
              "      <td>0.828327</td>\n",
              "      <td>0.473892</td>\n",
              "      <td>0.8340</td>\n",
              "    </tr>\n",
              "    <tr>\n",
              "      <th>2</th>\n",
              "      <td>0.447561</td>\n",
              "      <td>0.843418</td>\n",
              "      <td>0.458373</td>\n",
              "      <td>0.8424</td>\n",
              "    </tr>\n",
              "    <tr>\n",
              "      <th>3</th>\n",
              "      <td>0.420327</td>\n",
              "      <td>0.852509</td>\n",
              "      <td>0.392285</td>\n",
              "      <td>0.8662</td>\n",
              "    </tr>\n",
              "    <tr>\n",
              "      <th>4</th>\n",
              "      <td>0.399692</td>\n",
              "      <td>0.859855</td>\n",
              "      <td>0.393608</td>\n",
              "      <td>0.8686</td>\n",
              "    </tr>\n",
              "    <tr>\n",
              "      <th>5</th>\n",
              "      <td>0.382229</td>\n",
              "      <td>0.865745</td>\n",
              "      <td>0.385179</td>\n",
              "      <td>0.8664</td>\n",
              "    </tr>\n",
              "    <tr>\n",
              "      <th>6</th>\n",
              "      <td>0.368188</td>\n",
              "      <td>0.870655</td>\n",
              "      <td>0.387269</td>\n",
              "      <td>0.8634</td>\n",
              "    </tr>\n",
              "    <tr>\n",
              "      <th>7</th>\n",
              "      <td>0.356275</td>\n",
              "      <td>0.874691</td>\n",
              "      <td>0.375641</td>\n",
              "      <td>0.8684</td>\n",
              "    </tr>\n",
              "    <tr>\n",
              "      <th>8</th>\n",
              "      <td>0.345848</td>\n",
              "      <td>0.877036</td>\n",
              "      <td>0.347132</td>\n",
              "      <td>0.8786</td>\n",
              "    </tr>\n",
              "    <tr>\n",
              "      <th>9</th>\n",
              "      <td>0.334271</td>\n",
              "      <td>0.880818</td>\n",
              "      <td>0.353061</td>\n",
              "      <td>0.8734</td>\n",
              "    </tr>\n",
              "    <tr>\n",
              "      <th>10</th>\n",
              "      <td>0.326275</td>\n",
              "      <td>0.883455</td>\n",
              "      <td>0.363465</td>\n",
              "      <td>0.8716</td>\n",
              "    </tr>\n",
              "    <tr>\n",
              "      <th>11</th>\n",
              "      <td>0.318031</td>\n",
              "      <td>0.885855</td>\n",
              "      <td>0.338930</td>\n",
              "      <td>0.8810</td>\n",
              "    </tr>\n",
              "    <tr>\n",
              "      <th>12</th>\n",
              "      <td>0.310454</td>\n",
              "      <td>0.888764</td>\n",
              "      <td>0.328245</td>\n",
              "      <td>0.8848</td>\n",
              "    </tr>\n",
              "    <tr>\n",
              "      <th>13</th>\n",
              "      <td>0.302550</td>\n",
              "      <td>0.892091</td>\n",
              "      <td>0.330344</td>\n",
              "      <td>0.8800</td>\n",
              "    </tr>\n",
              "    <tr>\n",
              "      <th>14</th>\n",
              "      <td>0.296587</td>\n",
              "      <td>0.894800</td>\n",
              "      <td>0.328521</td>\n",
              "      <td>0.8834</td>\n",
              "    </tr>\n",
              "    <tr>\n",
              "      <th>15</th>\n",
              "      <td>0.290629</td>\n",
              "      <td>0.894982</td>\n",
              "      <td>0.319862</td>\n",
              "      <td>0.8822</td>\n",
              "    </tr>\n",
              "    <tr>\n",
              "      <th>16</th>\n",
              "      <td>0.284958</td>\n",
              "      <td>0.897236</td>\n",
              "      <td>0.315911</td>\n",
              "      <td>0.8882</td>\n",
              "    </tr>\n",
              "    <tr>\n",
              "      <th>17</th>\n",
              "      <td>0.279567</td>\n",
              "      <td>0.899255</td>\n",
              "      <td>0.316634</td>\n",
              "      <td>0.8872</td>\n",
              "    </tr>\n",
              "    <tr>\n",
              "      <th>18</th>\n",
              "      <td>0.274624</td>\n",
              "      <td>0.901127</td>\n",
              "      <td>0.324734</td>\n",
              "      <td>0.8796</td>\n",
              "    </tr>\n",
              "    <tr>\n",
              "      <th>19</th>\n",
              "      <td>0.268364</td>\n",
              "      <td>0.903036</td>\n",
              "      <td>0.317515</td>\n",
              "      <td>0.8862</td>\n",
              "    </tr>\n",
              "    <tr>\n",
              "      <th>20</th>\n",
              "      <td>0.264187</td>\n",
              "      <td>0.903800</td>\n",
              "      <td>0.304523</td>\n",
              "      <td>0.8892</td>\n",
              "    </tr>\n",
              "    <tr>\n",
              "      <th>21</th>\n",
              "      <td>0.258719</td>\n",
              "      <td>0.905655</td>\n",
              "      <td>0.325830</td>\n",
              "      <td>0.8804</td>\n",
              "    </tr>\n",
              "    <tr>\n",
              "      <th>22</th>\n",
              "      <td>0.254539</td>\n",
              "      <td>0.907673</td>\n",
              "      <td>0.301978</td>\n",
              "      <td>0.8932</td>\n",
              "    </tr>\n",
              "    <tr>\n",
              "      <th>23</th>\n",
              "      <td>0.249108</td>\n",
              "      <td>0.909600</td>\n",
              "      <td>0.312164</td>\n",
              "      <td>0.8882</td>\n",
              "    </tr>\n",
              "    <tr>\n",
              "      <th>24</th>\n",
              "      <td>0.245024</td>\n",
              "      <td>0.911018</td>\n",
              "      <td>0.303789</td>\n",
              "      <td>0.8888</td>\n",
              "    </tr>\n",
              "    <tr>\n",
              "      <th>25</th>\n",
              "      <td>0.241285</td>\n",
              "      <td>0.912964</td>\n",
              "      <td>0.325316</td>\n",
              "      <td>0.8824</td>\n",
              "    </tr>\n",
              "    <tr>\n",
              "      <th>26</th>\n",
              "      <td>0.237733</td>\n",
              "      <td>0.913636</td>\n",
              "      <td>0.297773</td>\n",
              "      <td>0.8922</td>\n",
              "    </tr>\n",
              "    <tr>\n",
              "      <th>27</th>\n",
              "      <td>0.232720</td>\n",
              "      <td>0.915273</td>\n",
              "      <td>0.301117</td>\n",
              "      <td>0.8932</td>\n",
              "    </tr>\n",
              "    <tr>\n",
              "      <th>28</th>\n",
              "      <td>0.228999</td>\n",
              "      <td>0.916418</td>\n",
              "      <td>0.303151</td>\n",
              "      <td>0.8898</td>\n",
              "    </tr>\n",
              "    <tr>\n",
              "      <th>29</th>\n",
              "      <td>0.225983</td>\n",
              "      <td>0.918527</td>\n",
              "      <td>0.309528</td>\n",
              "      <td>0.8888</td>\n",
              "    </tr>\n",
              "  </tbody>\n",
              "</table>\n",
              "</div>"
            ],
            "text/plain": [
              "        loss  accuracy  val_loss  val_accuracy\n",
              "0   0.726195  0.762582  0.526754        0.8186\n",
              "1   0.493458  0.828327  0.473892        0.8340\n",
              "2   0.447561  0.843418  0.458373        0.8424\n",
              "3   0.420327  0.852509  0.392285        0.8662\n",
              "4   0.399692  0.859855  0.393608        0.8686\n",
              "5   0.382229  0.865745  0.385179        0.8664\n",
              "6   0.368188  0.870655  0.387269        0.8634\n",
              "7   0.356275  0.874691  0.375641        0.8684\n",
              "8   0.345848  0.877036  0.347132        0.8786\n",
              "9   0.334271  0.880818  0.353061        0.8734\n",
              "10  0.326275  0.883455  0.363465        0.8716\n",
              "11  0.318031  0.885855  0.338930        0.8810\n",
              "12  0.310454  0.888764  0.328245        0.8848\n",
              "13  0.302550  0.892091  0.330344        0.8800\n",
              "14  0.296587  0.894800  0.328521        0.8834\n",
              "15  0.290629  0.894982  0.319862        0.8822\n",
              "16  0.284958  0.897236  0.315911        0.8882\n",
              "17  0.279567  0.899255  0.316634        0.8872\n",
              "18  0.274624  0.901127  0.324734        0.8796\n",
              "19  0.268364  0.903036  0.317515        0.8862\n",
              "20  0.264187  0.903800  0.304523        0.8892\n",
              "21  0.258719  0.905655  0.325830        0.8804\n",
              "22  0.254539  0.907673  0.301978        0.8932\n",
              "23  0.249108  0.909600  0.312164        0.8882\n",
              "24  0.245024  0.911018  0.303789        0.8888\n",
              "25  0.241285  0.912964  0.325316        0.8824\n",
              "26  0.237733  0.913636  0.297773        0.8922\n",
              "27  0.232720  0.915273  0.301117        0.8932\n",
              "28  0.228999  0.916418  0.303151        0.8898\n",
              "29  0.225983  0.918527  0.309528        0.8888"
            ]
          },
          "metadata": {
            "tags": []
          },
          "execution_count": 13
        }
      ]
    },
    {
      "cell_type": "code",
      "metadata": {
        "id": "CdblVIWsWTQT",
        "colab_type": "code",
        "colab": {
          "base_uri": "https://localhost:8080/",
          "height": 269
        },
        "outputId": "8ed2ff36-62c9-421c-ee8a-7556511d74ca"
      },
      "source": [
        "import matplotlib.pyplot as plt\n",
        "pd.DataFrame(history.history).plot()\n",
        "plt.grid(True)\n",
        "plt.gca().set_ylim(0,1)\n",
        "plt.show()"
      ],
      "execution_count": null,
      "outputs": [
        {
          "output_type": "display_data",
          "data": {
            "image/png": "[encoded data removed]",
            "text/plain": [
              "<Figure size 432x288 with 1 Axes>"
            ]
          },
          "metadata": {
            "tags": [],
            "needs_background": "light"
          }
        }
      ]
    },
    {
      "cell_type": "code",
      "metadata": {
        "id": "42sP7qPkaJLH",
        "colab_type": "code",
        "colab": {
          "base_uri": "https://localhost:8080/",
          "height": 51
        },
        "outputId": "36b0552d-22e6-432b-ebc6-8942789879bf"
      },
      "source": [
        "model.evaluate(X_test, y_test)"
      ],
      "execution_count": null,
      "outputs": [
        {
          "output_type": "stream",
          "text": [
            "313/313 [==============================] - 1s 2ms/step - loss: 59.3346 - accuracy: 0.8474\n"
          ],
          "name": "stdout"
        },
        {
          "output_type": "execute_result",
          "data": {
            "text/plain": [
              "[59.334556579589844, 0.8474000096321106]"
            ]
          },
          "metadata": {
            "tags": []
          },
          "execution_count": 20
        }
      ]
    },
    {
      "cell_type": "code",
      "metadata": {
        "id": "HmOm-UXydgiv",
        "colab_type": "code",
        "colab": {}
      },
      "source": [
        "#we can use the model’s predict() method to make predictions on new instances.\n",
        "# Since we don’t have actual new instances, we will just use the first 3 instances of\n",
        "#the test set"
      ],
      "execution_count": null,
      "outputs": []
    },
    {
      "cell_type": "code",
      "metadata": {
        "id": "fit3L1LUcQpH",
        "colab_type": "code",
        "colab": {
          "base_uri": "https://localhost:8080/",
          "height": 68
        },
        "outputId": "d8830718-4c70-4cdf-f232-196b7029f82f"
      },
      "source": [
        "X_new = X_test[:3]\n",
        "y_proba= model.predict(X_new)\n",
        "y_proba.round(2)"
      ],
      "execution_count": null,
      "outputs": [
        {
          "output_type": "execute_result",
          "data": {
            "text/plain": [
              "array([[0., 0., 0., 0., 0., 0., 0., 0., 0., 1.],\n",
              "       [0., 0., 1., 0., 0., 0., 0., 0., 0., 0.],\n",
              "       [0., 1., 0., 0., 0., 0., 0., 0., 0., 0.]], dtype=float32)"
            ]
          },
          "metadata": {
            "tags": []
          },
          "execution_count": 23
        }
      ]
    },
    {
      "cell_type": "code",
      "metadata": {
        "id": "fTNsNTWMdrqY",
        "colab_type": "code",
        "colab": {
          "base_uri": "https://localhost:8080/",
          "height": 34
        },
        "outputId": "d3643cb7-afd3-40af-acaa-f8fcb17cbb40"
      },
      "source": [
        "#If you only care about the class with the highest estimated\n",
        "#probability (even if that probability is quite low) then you can use the pre\n",
        "#dict_classes() method instead:\n",
        "y_pred=model.predict_classes(X_new)\n",
        "y_pred\n"
      ],
      "execution_count": null,
      "outputs": [
        {
          "output_type": "execute_result",
          "data": {
            "text/plain": [
              "array([9, 2, 1])"
            ]
          },
          "metadata": {
            "tags": []
          },
          "execution_count": 32
        }
      ]
    },
    {
      "cell_type": "code",
      "metadata": {
        "id": "2bH3LvdOfGTd",
        "colab_type": "code",
        "colab": {
          "base_uri": "https://localhost:8080/",
          "height": 34
        },
        "outputId": "722a20b6-9330-4559-ddf2-c621b0619c8d"
      },
      "source": [
        "np.array(class_names)[y_pred]"
      ],
      "execution_count": null,
      "outputs": [
        {
          "output_type": "execute_result",
          "data": {
            "text/plain": [
              "array(['Ankle boot', 'Pullover', 'Trouser'], dtype='<U11')"
            ]
          },
          "metadata": {
            "tags": []
          },
          "execution_count": 33
        }
      ]
    },
    {
      "cell_type": "code",
      "metadata": {
        "id": "VIAkGKcJfbEi",
        "colab_type": "code",
        "colab": {}
      },
      "source": [
        "# And the classifier actually classified all three images correctly"
      ],
      "execution_count": null,
      "outputs": []
    },
    {
      "cell_type": "code",
      "metadata": {
        "id": "KZBejvpcf0KW",
        "colab_type": "code",
        "colab": {}
      },
      "source": [
        ""
      ],
      "execution_count": null,
      "outputs": []
    },
    {
      "cell_type": "code",
      "metadata": {
        "id": "x7IrSxwfehNU",
        "colab_type": "code",
        "colab": {
          "base_uri": "https://localhost:8080/",
          "height": 34
        },
        "outputId": "f38b30a6-02dc-4d62-9e5a-62ac86dfd080"
      },
      "source": [
        "# other method after year  2021 \n",
        "import numpy as np\n",
        "\n",
        "np.argmax(model.predict(X_new), axis=-1)"
      ],
      "execution_count": null,
      "outputs": [
        {
          "output_type": "execute_result",
          "data": {
            "text/plain": [
              "array([9, 2, 1])"
            ]
          },
          "metadata": {
            "tags": []
          },
          "execution_count": 26
        }
      ]
    },
    {
      "cell_type": "code",
      "metadata": {
        "id": "zru3XbWcfJkn",
        "colab_type": "code",
        "colab": {
          "base_uri": "https://localhost:8080/",
          "height": 34
        },
        "outputId": "055f7860-f0bf-497e-de1e-5a079fc83967"
      },
      "source": [
        "np.array(class_names)[y_pred]"
      ],
      "execution_count": null,
      "outputs": [
        {
          "output_type": "execute_result",
          "data": {
            "text/plain": [
              "array(['Ankle boot', 'Pullover', 'Trouser'], dtype='<U11')"
            ]
          },
          "metadata": {
            "tags": []
          },
          "execution_count": 34
        }
      ]
    },
    {
      "cell_type": "code",
      "metadata": {
        "id": "skyydeeqf9sn",
        "colab_type": "code",
        "colab": {}
      },
      "source": [
        ""
      ],
      "execution_count": null,
      "outputs": []
    }
  ]
}